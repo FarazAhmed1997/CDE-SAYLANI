{
 "cells": [
  {
   "cell_type": "markdown",
   "metadata": {},
   "source": [
    "# Part -1 Python Basics (Variables)"
   ]
  },
  {
   "cell_type": "markdown",
   "metadata": {},
   "source": [
    "1. Print Your Name with your Father name and Date of birth using suitable escape sequence charactor"
   ]
  },
  {
   "cell_type": "code",
   "execution_count": 2,
   "metadata": {},
   "outputs": [
    {
     "name": "stdout",
     "output_type": "stream",
     "text": [
      " Name:\t AFFAN ZUBAIR\n",
      " Father Name:\t ZUBAIR\n",
      " Date of birth: 16/04/2007 \n"
     ]
    }
   ],
   "source": [
    "print(\" Name:\\t Faraz Ahmed\\n Father Name:\\t Khadim Hussain\\n Date of birth: 18/12/1997 \")"
   ]
  },
  {
   "cell_type": "markdown",
   "metadata": {},
   "source": [
    "2. Write your small bio using variables and print it using print function"
   ]
  },
  {
   "cell_type": "code",
   "execution_count": 4,
   "metadata": {},
   "outputs": [
    {
     "name": "stdout",
     "output_type": "stream",
     "text": [
      "POLISHIING MY SKILLS IN MERN STACK\n"
     ]
    }
   ],
   "source": [
    "bio = \"CURRENTLY POLISHIING MY SKILLS IN MERN STACK\"\n",
    "print(bio)"
   ]
  },
  {
   "cell_type": "markdown",
   "metadata": {},
   "source": [
    "3. Write a program in which use all the operators we can use in Python"
   ]
  },
  {
   "cell_type": "code",
   "execution_count": 16,
   "metadata": {},
   "outputs": [
    {
     "name": "stdout",
     "output_type": "stream",
     "text": [
      "Arithmetic Operators:\n",
      "Addition: 13\n",
      "Subtraction: 7\n",
      "Multiplication: 30\n",
      "Division: 3.3333333333333335\n",
      "Floor Division: 3\n",
      "Modulus: 1\n",
      "Exponentiation: 1000\n",
      "\n",
      "Comparison Operators:\n",
      "Equal: False\n",
      "Not Equal: True\n",
      "Greater Than: True\n",
      "Less Than: False\n",
      "Greater or Equal: True\n",
      "Less or Equal: False\n"
     ]
    }
   ],
   "source": [
    "# 1. Arithmetic Operators\n",
    "a = 10\n",
    "b = 3\n",
    "print(\"Arithmetic Operators:\")\n",
    "print(\"Addition:\", a + b)       \n",
    "print(\"Subtraction:\", a - b)    \n",
    "print(\"Multiplication:\", a * b) \n",
    "print(\"Division:\", a / b)       \n",
    "print(\"Floor Division:\", a // b) \n",
    "print(\"Modulus:\", a % b)        \n",
    "print(\"Exponentiation:\", a ** b) \n",
    "\n",
    "# 2. Comparison Operators\n",
    "print(\"\\nComparison Operators:\")\n",
    "print(\"Equal:\", a == b)        \n",
    "print(\"Not Equal:\", a != b)    \n",
    "print(\"Greater Than:\", a > b)  \n",
    "print(\"Less Than:\", a < b)     \n",
    "print(\"Greater or Equal:\", a >= b)\n",
    "print(\"Less or Equal:\", a <= b)  \n",
    "\n"
   ]
  },
  {
   "cell_type": "markdown",
   "metadata": {},
   "source": [
    "4. Completes the following steps of small task:\n",
    "    - Mention Marks of English , Islamiat and Maths out of 100 in 3 different variables\n",
    "    - Mention Variable of Total Marks and assign 300 to it\n",
    "    - Calculate Percentage"
   ]
  },
  {
   "cell_type": "code",
   "execution_count": 22,
   "metadata": {},
   "outputs": [
    {
     "name": "stdout",
     "output_type": "stream",
     "text": [
      "OBTAIN-MARKS = 245\n",
      "Percentage = 81.66666666666667\n"
     ]
    }
   ],
   "source": [
    "Eng = 80\n",
    "Isl = 80\n",
    "Maths = 85\n",
    "total= 300\n",
    "obtaineMarks = Eng+Isl+Maths\n",
    "ForPercetage=obtaineMarks / total\n",
    "Percentage= ForPercetage * 100\n",
    "print (\"OBTAIN-MARKS =\", obtaineMarks)\n",
    "print(\"Percentage =\" ,Percentage )"
   ]
  },
  {
   "cell_type": "markdown",
   "metadata": {},
   "source": [
    "# Part -2 Python Basics (Conditional Statements)"
   ]
  },
  {
   "cell_type": "markdown",
   "metadata": {},
   "source": [
    "1) A company decided to give bonus of 5% to employee if his/her year of service is more than 5 years.\n",
    "Ask user for their salary and year of service and print the net bonus amount."
   ]
  },
  {
   "cell_type": "code",
   "execution_count": 34,
   "metadata": {},
   "outputs": [
    {
     "name": "stdout",
     "output_type": "stream",
     "text": [
      "Add your Wrok years In Our Company  10\n",
      "Add yor per month salary 5000\n"
     ]
    },
    {
     "name": "stdout",
     "output_type": "stream",
     "text": [
      "Congratulations! You are eligible for a bonus of: 250.0\n"
     ]
    }
   ],
   "source": [
    "employee_workYear = float(input(\"Add your Wrok years In Our Company \"))\n",
    "employee_Salary = int(input(\"Add yor per month salary\"))\n",
    "\n",
    "if employee_workYear > 5:\n",
    "    bonus = employee_Salary * 0.05\n",
    "    print(\"Congratulations! You are eligible for a bonus of:\", bonus)\n",
    "else:\n",
    "    print(\"Sorry, you are not eligible for a bonus.\")\n"
   ]
  },
  {
   "cell_type": "markdown",
   "metadata": {},
   "source": [
    "2) Write a program to check whether a person is eligible for voting or not. (accept age from user) if age is greater than 17 eligible otherwise not eligible"
   ]
  },
  {
   "cell_type": "code",
   "execution_count": 45,
   "metadata": {},
   "outputs": [
    {
     "name": "stdout",
     "output_type": "stream",
     "text": [
      "Your are not eligible for vote\n"
     ]
    }
   ],
   "source": [
    "age = 14\n",
    "if age >= 18:\n",
    "    print(\"Your are eligible for vote\")\n",
    "else:\n",
    "    print(\"Your are not eligible for vote\")"
   ]
  },
  {
   "cell_type": "markdown",
   "metadata": {},
   "source": [
    "\n",
    "3) Write a program to check whether a number entered by user is even or odd."
   ]
  },
  {
   "cell_type": "code",
   "execution_count": 53,
   "metadata": {},
   "outputs": [
    {
     "name": "stdout",
     "output_type": "stream",
     "text": [
      "Add a number 6\n"
     ]
    },
    {
     "name": "stdout",
     "output_type": "stream",
     "text": [
      "your number is even \n"
     ]
    }
   ],
   "source": [
    "add_number = int(input(\"Add a number\"))\n",
    "\n",
    "if add_number  % 2 == 0:\n",
    "    print (\"your number is even \")\n",
    "else:\n",
    "    print (\"Your number is odd\")"
   ]
  },
  {
   "cell_type": "markdown",
   "metadata": {},
   "source": [
    "4) Write a program to check whether a number is divisible by 7 or not.\n",
    "Show Answer"
   ]
  },
  {
   "cell_type": "code",
   "execution_count": 54,
   "metadata": {},
   "outputs": [
    {
     "name": "stdout",
     "output_type": "stream",
     "text": [
      "Add a number 49\n"
     ]
    },
    {
     "name": "stdout",
     "output_type": "stream",
     "text": [
      "your number can be divisible by 7 \n"
     ]
    }
   ],
   "source": [
    "add_number = int(input(\"Add a number\"))\n",
    "\n",
    "if add_number  % 7 == 0:\n",
    "    print (\"your number can be divisible by 7 \")\n",
    "else:\n",
    "    print (\"Your number can't be divisible by 7\")"
   ]
  },
  {
   "cell_type": "markdown",
   "metadata": {},
   "source": [
    "5) Write a program to display \n",
    "\"Hello\" if a number entered by user is a multiple of five , otherwise print \"Bye\"."
   ]
  },
  {
   "cell_type": "code",
   "execution_count": 56,
   "metadata": {},
   "outputs": [
    {
     "name": "stdout",
     "output_type": "stream",
     "text": [
      "Add a number 25\n"
     ]
    },
    {
     "name": "stdout",
     "output_type": "stream",
     "text": [
      "hello! \n"
     ]
    }
   ],
   "source": [
    "add_number = int(input(\"Add a number\"))\n",
    "\n",
    "if add_number  % 5 == 0:\n",
    "    print (\"hello! \")\n",
    "else:\n",
    "    print (\"Bye Bye! \")"
   ]
  },
  {
   "cell_type": "markdown",
   "metadata": {},
   "source": [
    "6) Write a program to calculate the electricity bill (accept number of unit from user) according to the following criteria :\n",
    "     Unit                                                     Price  \n",
    "uptp 100 units                                             no charge\n",
    "Next 200 units                                              Rs 5 per unit\n",
    "After 200 units                                             Rs 10 per unit\n",
    "(For example if input unit is 350 than total bill amount is Rs.3500\n",
    "(For example if input unit is 97 than total bill amount is Rs.0\n",
    "(For example if input unit is 150 than total bill amount is Rs.750"
   ]
  },
  {
   "cell_type": "code",
   "execution_count": 89,
   "metadata": {},
   "outputs": [
    {
     "name": "stdout",
     "output_type": "stream",
     "text": [
      "Add your Units  350\n"
     ]
    },
    {
     "name": "stdout",
     "output_type": "stream",
     "text": [
      "Your bill whoulc be  3500\n"
     ]
    }
   ],
   "source": [
    "units = int(input(\"Add your Units \"))\n",
    "\n",
    "if units <=100:\n",
    "    print(\"there will be no charge for such a unit\")\n",
    "elif units <=200:\n",
    "    bill =  units * 5\n",
    "    print (\"Your bill whould be \", bill)\n",
    "elif units >200:\n",
    "    bill = units * 10\n",
    "    print (\"Your bill whoulc be \", bill)\n",
    "else:\n",
    "    print(\"the amount is incorrect\")"
   ]
  },
  {
   "cell_type": "markdown",
   "metadata": {},
   "source": [
    "7) Write a program to display the last digit of a number.\n"
   ]
  },
  {
   "cell_type": "code",
   "execution_count": 61,
   "metadata": {
    "scrolled": true
   },
   "outputs": [
    {
     "name": "stdout",
     "output_type": "stream",
     "text": [
      "Add a number 88\n"
     ]
    },
    {
     "name": "stdout",
     "output_type": "stream",
     "text": [
      "your last digit 8\n"
     ]
    }
   ],
   "source": [
    "add_number = int(input(\"Add a number\"))\n",
    "lastDigit =add_number  % 10\n",
    "print(\"your last digit\" , lastDigit)"
   ]
  },
  {
   "cell_type": "markdown",
   "metadata": {},
   "source": [
    "9) Take values of length and breadth of a rectangle from user and print if it is square or rectangle."
   ]
  },
  {
   "cell_type": "code",
   "execution_count": 62,
   "metadata": {},
   "outputs": [
    {
     "name": "stdout",
     "output_type": "stream",
     "text": [
      "Enter length:  60\n",
      "Enter breadth:  883\n"
     ]
    },
    {
     "name": "stdout",
     "output_type": "stream",
     "text": [
      "It is a Rectangle.\n"
     ]
    }
   ],
   "source": [
    "length = int(input(\"Enter length\"))\n",
    "breadth = int(input(\"Enter breadth\"))\n",
    "\n",
    "if length == breadth:\n",
    "    print(\"It is a Square\")\n",
    "else:\n",
    "    print(\"It is a Rectangle\")\n"
   ]
  },
  {
   "cell_type": "markdown",
   "metadata": {},
   "source": [
    "10) Take two int values from user and print greatest among them."
   ]
  },
  {
   "cell_type": "code",
   "execution_count": 63,
   "metadata": {},
   "outputs": [
    {
     "name": "stdout",
     "output_type": "stream",
     "text": [
      "Enter first number 66\n",
      "Enter second number 8388\n"
     ]
    },
    {
     "name": "stdout",
     "output_type": "stream",
     "text": [
      "8388 is greater.\n"
     ]
    }
   ],
   "source": [
    "\n",
    "x = int(input(\"Enter first number\"))\n",
    "y = int(input(\"Enter second number\"))\n",
    "\n",
    "if x > y:\n",
    "    print(x, \"is greater.\")\n",
    "elif y > x:\n",
    "    print(y, \"is greater.\")\n",
    "else:\n",
    "    print(\"Both numbers are equal.\")\n"
   ]
  },
  {
   "cell_type": "markdown",
   "metadata": {},
   "source": [
    "11) A shop will give discount of 10% if the cost of purchased quantity is more than 1000.\n",
    "Ask user for quantity\n",
    "Suppose, one unit will cost 100.\n",
    "Judge and print total cost for user."
   ]
  },
  {
   "cell_type": "code",
   "execution_count": 65,
   "metadata": {},
   "outputs": [
    {
     "name": "stdout",
     "output_type": "stream",
     "text": [
      "Enter quantity 79\n"
     ]
    },
    {
     "name": "stdout",
     "output_type": "stream",
     "text": [
      "Total cost after discount : 7110.0\n"
     ]
    }
   ],
   "source": [
    " quantity = int(input(\"Enter quantity\"))\n",
    "\n",
    "price = 100\n",
    "totalcost = quantity * price\n",
    "\n",
    "if totalcost > 1000:\n",
    "    discount = totalcost * 0.1\n",
    "    totalcost -= discount\n",
    "\n",
    "print(\"Total cost after discount :\", totalcost)\n"
   ]
  },
  {
   "cell_type": "markdown",
   "metadata": {},
   "source": [
    "12) A school has following rules for grading system:\n",
    "\n",
    "a. Below 25 - F\n",
    "\n",
    "b. 25 to 45 - E\n",
    "\n",
    "c. 45 to 50 - D\n",
    "\n",
    "d. 50 to 60 - C\n",
    "\n",
    "e. 60 to 80 - B\n",
    "\n",
    "f. Above 80 - A\n",
    "\n",
    "Ask user to enter marks and print the corresponding grade."
   ]
  },
  {
   "cell_type": "code",
   "execution_count": 2,
   "metadata": {},
   "outputs": [],
   "source": [
    "\n",
    "marks = int(input(\"Enter marks\"))\n",
    "\n",
    "if marks < 25:\n",
    "    print(\"Grade: F\")\n",
    "elif marks <= 45:\n",
    "    print(\"Grade: E\")\n",
    "elif marks <= 50:\n",
    "    print(\"Grade: D\")\n",
    "elif marks <= 60:\n",
    "    print(\"Grade: C\")\n",
    "elif marks <= 80:\n",
    "    print(\"Grade: B\")\n",
    "else:\n",
    "    print(\"Grade: A\")\n",
    "# i use down to upp word approch bcz it was easy"
   ]
  },
  {
   "cell_type": "markdown",
   "metadata": {},
   "source": [
    "14)A student will not be allowed to sit in exam if his/her attendence is less than 75%.\n",
    "\n",
    "Take following input from user\n",
    "\n",
    "- Number of classes held\n",
    "\n",
    "- Number of classes attended.\n",
    "\n",
    "And print\n",
    "\n",
    "- percentage of class attended\n",
    "\n",
    "- Is student is allowed to sit in exam or not.\n"
   ]
  },
  {
   "cell_type": "code",
   "execution_count": 73,
   "metadata": {},
   "outputs": [
    {
     "name": "stdout",
     "output_type": "stream",
     "text": [
      "Enter total number of classes held:  80\n",
      "Enter number of classes attended:  1\n"
     ]
    },
    {
     "name": "stdout",
     "output_type": "stream",
     "text": [
      "Attendance Percentage 8000.0 %\n",
      "Not allowed to sit in exam.\n"
     ]
    }
   ],
   "source": [
    "\n",
    "NumberOfClass = int(input(\"Enter total number of classes held: \"))\n",
    "NumberOfClassAtend = int(input(\"Enter number of classes attended: \"))\n",
    "\n",
    "\n",
    "attendance = (NumberOfClass / NumberOfClassAtend) * 100\n",
    "print(\"Attendance Percentage\", attendance, \"%\")\n",
    "\n",
    "if attendance <= 75:\n",
    "    print(\"Allowed to sit in exam.\")\n",
    "else:\n",
    "    print(\"Not allowed to sit in exam.\")\n"
   ]
  },
  {
   "cell_type": "markdown",
   "metadata": {},
   "source": [
    "15) Modify the above question to allow student to sit if he/she has medical cause. Ask user if he/she has medical cause or not ( 'Y' or 'N' ) and print accordingly."
   ]
  },
  {
   "cell_type": "code",
   "execution_count": 74,
   "metadata": {},
   "outputs": [
    {
     "name": "stdout",
     "output_type": "stream",
     "text": [
      "Enter total number of classes held:  990\n",
      "Enter number of classes attended:  2\n"
     ]
    },
    {
     "name": "stdout",
     "output_type": "stream",
     "text": [
      "Attendance Percentage 49500.0 %\n"
     ]
    },
    {
     "name": "stdout",
     "output_type": "stream",
     "text": [
      "Do you have a medical cause? (Y/N):  y\n"
     ]
    },
    {
     "name": "stdout",
     "output_type": "stream",
     "text": [
      "Not allowed to sit in exam.\n"
     ]
    }
   ],
   "source": [
    "NumberOfClass = int(input(\"Enter total number of classes held: \"))\n",
    "NumberOfClassAtend = int(input(\"Enter number of classes attended: \"))\n",
    "\n",
    "attendance = (NumberOfClass / NumberOfClassAtend) * 100\n",
    "print(\"Attendance Percentage\", attendance, \"%\")\n",
    "\n",
    "if attendance <= 75:\n",
    "    print(\"Allowed to sit in exam.\")\n",
    "else:\n",
    "    MedicalCasuse = input(\"Do you have a medical cause? (Y/N): \")\n",
    "    if MedicalCasuse == 'Y':\n",
    "        print(\"Allowed to sit in exam due to medical cause.\")\n",
    "    else:\n",
    "        print(\"Not allowed to sit in exam.\")"
   ]
  },
  {
   "cell_type": "markdown",
   "metadata": {},
   "source": [
    "16) Write a program to check if a year is leap year or not.\n",
    "\n",
    "If a year is divisible by 4 then it is leap year but if the year is century year like 2000, 1900, 2100 then it must be divisible by 400."
   ]
  },
  {
   "cell_type": "code",
   "execution_count": 83,
   "metadata": {},
   "outputs": [
    {
     "name": "stdout",
     "output_type": "stream",
     "text": [
      "Enter the year 2100\n"
     ]
    },
    {
     "name": "stdout",
     "output_type": "stream",
     "text": [
      "2100 Your year is century year \n"
     ]
    }
   ],
   "source": [
    "year = int(input(\"Enter the year\"))\n",
    "\n",
    "if year %4:\n",
    "    print (year , \"Your year is leep year\")\n",
    "elif year %400:\n",
    "    print (year,\"Your year is century year \")\n",
    "else:\n",
    "    print (\" your is year:\", year)"
   ]
  },
  {
   "cell_type": "markdown",
   "metadata": {},
   "source": [
    "17) Ask user to enter age, gender ( M or F ), marital status ( Y or N ) and then using following rules print their place of service.\n",
    "\n",
    "if employee is female, then she will work only in urban areas.\n",
    "\n",
    "if employee is a male and age is in between 20 to 40 then he may work in anywhere\n",
    "\n",
    "if employee is male and age is in between 40 t0 60 then he will work in urban areas only.\n",
    "\n",
    "And any other input of age should print \"ERROR\""
   ]
  },
  {
   "cell_type": "code",
   "execution_count": 91,
   "metadata": {},
   "outputs": [
    {
     "name": "stdout",
     "output_type": "stream",
     "text": [
      "Enter age:  22\n",
      "Enter gender (M/F):  88\n"
     ]
    },
    {
     "name": "stdout",
     "output_type": "stream",
     "text": [
      "Invalid Input\n"
     ]
    }
   ],
   "source": [
    "age = int(input(\"Enter age: \"))\n",
    "gender = input(\"Enter gender (M/F): \").upper()\n",
    "\n",
    "\n",
    "if gender == 'F':\n",
    "    print(\"She will work only in Urban Areas.\")\n",
    "elif gender == 'M':\n",
    "    if 20 <= age <= 40:\n",
    "        print(\"He can work Anywhere.\")\n",
    "    elif 40 < age <= 60:\n",
    "        print(\"He will work only in Urban Areas.\")\n",
    "    else:\n",
    "        print(\"ERROR\")\n",
    "else:\n",
    "    print(\"Invalid Input\")\n"
   ]
  },
  {
   "cell_type": "markdown",
   "metadata": {},
   "source": [
    "13) Take input of age of 3 people by user and determine oldest and youngest among them."
   ]
  },
  {
   "cell_type": "code",
   "execution_count": null,
   "metadata": {},
   "outputs": [
    {
     "name": "stdout",
     "output_type": "stream",
     "text": [
      "Enter your First brother age 797\n",
      "Enter your Second brother age 333\n",
      "Enter your Third brother age 22\n"
     ]
    },
    {
     "name": "stdout",
     "output_type": "stream",
     "text": [
      "The oldest person is 797 years old.\n",
      "The youngest person is 22 years old.\n"
     ]
    }
   ],
   "source": [
    "age_1 = int(input(\"Enter your First brother age\"))\n",
    "age_2 = int(input(\"Enter your Second brother age\"))\n",
    "age_3 = int(input(\"Enter your Third brother age\"))\n",
    "\n",
    "if age_1 > age_2  and age_1 > age_3:\n",
    "    oldest = age_1\n",
    "elif age_2 > age_1 and age_2  > age_3:\n",
    "    oldest = age_2 \n",
    "else:\n",
    "    oldest = age_3\n",
    "\n",
    "if age_1 < age_2 and age_1 < age_3:\n",
    "    youngest = a1\n",
    "elif age_2  < age_1 and age_2  < age_3:\n",
    "    youngest = age_2 \n",
    "else:\n",
    "    youngest = age_3\n",
    "\n",
    "print(\"The oldest person is\", oldest, \"years old.\")\n",
    "print(\"The youngest person is\", youngest, \"years old.\")\n",
    "\n",
    "# it can also be done by min and max method"
   ]
  },
  {
   "cell_type": "code",
   "execution_count": null,
   "metadata": {},
   "outputs": [],
   "source": []
  }
 ],
 "metadata": {
  "kernelspec": {
   "display_name": "Python 3 (ipykernel)",
   "language": "python",
   "name": "python3"
  },
  "language_info": {
   "codemirror_mode": {
    "name": "ipython",
    "version": 3
   },
   "file_extension": ".py",
   "mimetype": "text/x-python",
   "name": "python",
   "nbconvert_exporter": "python",
   "pygments_lexer": "ipython3",
   "version": "3.12.7"
  }
 },
 "nbformat": 4,
 "nbformat_minor": 4
}
