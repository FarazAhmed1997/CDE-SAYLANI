{
 "cells": [
  {
   "cell_type": "markdown",
   "metadata": {},
   "source": [
    "1. Write a program that accepts a string from user. Your program should count and display number of\n",
    "vowels in that string.\n"
   ]
  },
  {
   "cell_type": "code",
   "execution_count": 7,
   "metadata": {},
   "outputs": [],
   "source": [
    "# 1. Count and display number of vowels in a string\n",
    "def count_vowels():\n",
    "    s = input(\"Enter a string: \")\n",
    "    vowels = \"AEIOUaeiou\"\n",
    "    count = sum(1 for char in s if char in vowels)\n",
    "    print(\"Number of vowels:\", count)\n"
   ]
  },
  {
   "cell_type": "markdown",
   "metadata": {},
   "source": [
    " 2. Write a program that reads a string from keyboard and display:\n",
    "* The number of uppercase letters in the string\n",
    "* The number of lowercase letters in the string\n",
    "* The number of digits in the string\n",
    "* The number of whitespace characters in the string\n",
    " "
   ]
  },
  {
   "cell_type": "code",
   "execution_count": 8,
   "metadata": {},
   "outputs": [],
   "source": [
    "def count_characters():\n",
    "    s = input(\"Enter a string: \")\n",
    "    upper = sum(1 for char in s if char.isupper())\n",
    "    lower = sum(1 for char in s if char.islower())\n",
    "    digits = sum(1 for char in s if char.isdigit())\n",
    "    spaces = sum(1 for char in s if char.isspace())\n",
    "    print(\"Uppercase letters:\", upper)\n",
    "    print(\"Lowercase letters:\", lower)\n",
    "    print(\"Digits:\", digits)\n",
    "    print(\"Whitespace characters:\", spaces)"
   ]
  },
  {
   "cell_type": "markdown",
   "metadata": {},
   "source": [
    "3. Write a Python program that accepts a string from user. Your program should create and display a\n",
    "new string where the first and last characters have been exchanged.\n",
    "For example if the user enters the string 'HELLO' then new string would be 'OELLH'\n"
   ]
  },
  {
   "cell_type": "code",
   "execution_count": 9,
   "metadata": {},
   "outputs": [],
   "source": [
    "def swap_first_last():\n",
    "    s = input(\"Enter a string: \")\n",
    "    if len(s) < 2:\n",
    "        print(\"String is too short!\")\n",
    "    else:\n",
    "        new_s = s[-1] + s[1:-1] + s[0]\n",
    "        print(\"New string:\", new_s)"
   ]
  },
  {
   "cell_type": "markdown",
   "metadata": {},
   "source": [
    " 4. Write a Python program that accepts a string from user. Your program should create a new string in\n",
    "reverse of first string and display it.\n",
    "For example if the user enters the string 'EXAM' then new string would be 'MAXE'\n",
    " "
   ]
  },
  {
   "cell_type": "code",
   "execution_count": 10,
   "metadata": {},
   "outputs": [],
   "source": [
    "def reverse_string():\n",
    "    s = input(\"Enter a string: \")\n",
    "    print(\"Reversed string:\", s[::-1])"
   ]
  },
  {
   "cell_type": "markdown",
   "metadata": {},
   "source": [
    "5. Write a Python program that accepts a string from user. Your program should create a new string by\n",
    "shifting one position to left.\n",
    "For example if the user enters the string 'examination 2021' then new string would be 'xamination\n",
    "2021e'\n",
    " "
   ]
  },
  {
   "cell_type": "code",
   "execution_count": 11,
   "metadata": {},
   "outputs": [],
   "source": [
    "def shift_left():\n",
    "    string = input(\"Enter a string: \")\n",
    "    if len(string) > 1:\n",
    "        shifted_string = string[1:] + string[0]\n",
    "    else:\n",
    "        shifted_string = string\n",
    "    print(\"Shifted string:\", shifted_string)"
   ]
  },
  {
   "cell_type": "markdown",
   "metadata": {},
   "source": [
    "6. Write a program that asks the user to input his name and print its initials. Assuming that the user\n",
    "always types first name, middle name and last name and does not include any unnecessary spaces.\n",
    "For example, if the user enters Ajay Kumar Garg the program should display A. K. G.\n",
    "Note:Don't use split() method\n"
   ]
  },
  {
   "cell_type": "code",
   "execution_count": 18,
   "metadata": {},
   "outputs": [],
   "source": [
    "def display_initials():\n",
    "    name = input(\"Enter full name: \")\n",
    "    initials = \"\".join([word[0].upper() + \". \" for word in name.split()])\n",
    "    print(\"Initials:\", initials)"
   ]
  },
  {
   "cell_type": "markdown",
   "metadata": {},
   "source": [
    "7. A palindrome is a string that reads the same backward as forward. For example, the words dad,\n",
    "madam and radar are all palindromes. Write a programs that determines whether the string is a\n",
    "palindrome.\n",
    "Note: do not use reverse() method\n"
   ]
  },
  {
   "cell_type": "code",
   "execution_count": 14,
   "metadata": {},
   "outputs": [],
   "source": [
    "def check_palindrome():\n",
    "    string = input(\"Enter a string: \")\n",
    "    if string == string[::-1]:\n",
    "        print(\"The string is a palindrome.\")\n",
    "    else:\n",
    "        print(\"The string is not a palindrome.\")"
   ]
  },
  {
   "cell_type": "markdown",
   "metadata": {},
   "source": [
    "8. Write a program that display following output:\n",
    "SHIFT\n",
    "HIFTS\n",
    "IFTSH\n",
    "FTSHI\n",
    "TSHIF\n",
    "SHIFT\n"
   ]
  },
  {
   "cell_type": "code",
   "execution_count": 13,
   "metadata": {},
   "outputs": [],
   "source": [
    "def shift_pattern():\n",
    "    word = \"SHIFT\"\n",
    "    for i in range(len(word)):\n",
    "        print(word[i:] + word[:i])"
   ]
  },
  {
   "cell_type": "markdown",
   "metadata": {},
   "source": [
    " 9. Write a program in python that accepts a string to setup a passwords. Your entered password must\n",
    "meet the following requirements: \n",
    "The password must be at least eight characters long.\n",
    "It must contain at least one uppercase letter.\n",
    "It must contain at least one lowercase letter.\n",
    "It must contain at least one numeric digit.\n",
    "Your program should should perform this validation. "
   ]
  },
  {
   "cell_type": "code",
   "execution_count": 12,
   "metadata": {},
   "outputs": [],
   "source": [
    "def validate_password():\n",
    "    password = input(\"Enter a password: \")\n",
    "    if (len(password) >= 8 and any(c.isupper() for c in password) and\n",
    "        any(c.islower() for c in password) and any(c.isdigit() for c in password)):\n",
    "        print(\"Password is valid.\")\n",
    "    else:\n",
    "        print(\"Password does not meet requirements.\")\n",
    "\n"
   ]
  },
  {
   "cell_type": "code",
   "execution_count": null,
   "metadata": {},
   "outputs": [],
   "source": []
  },
  {
   "cell_type": "code",
   "execution_count": 19,
   "metadata": {},
   "outputs": [
    {
     "name": "stdout",
     "output_type": "stream",
     "text": [
      "Number of vowels: 3\n",
      "Uppercase letters: 1\n",
      "Lowercase letters: 4\n",
      "Digits: 1\n",
      "Whitespace characters: 0\n",
      "New string: zaraF\n",
      "Reversed string: TSET\n",
      "Shifted string: INAL YEARF\n",
      "Initials: F. A. S. \n",
      "The string is not a palindrome.\n",
      "SHIFT\n",
      "HIFTS\n",
      "IFTSH\n",
      "FTSHI\n",
      "TSHIF\n",
      "Password does not meet requirements.\n"
     ]
    }
   ],
   "source": [
    "# Run all functions to test\n",
    "if __name__ == \"__main__\":\n",
    "    count_vowels()\n",
    "    count_characters()\n",
    "    swap_first_last()\n",
    "    reverse_string()\n",
    "    shift_left()\n",
    "    display_initials()\n",
    "    check_palindrome()\n",
    "    shift_pattern()\n",
    "    validate_password()"
   ]
  }
 ],
 "metadata": {
  "kernelspec": {
   "display_name": "Python 3",
   "language": "python",
   "name": "python3"
  },
  "language_info": {
   "codemirror_mode": {
    "name": "ipython",
    "version": 3
   },
   "file_extension": ".py",
   "mimetype": "text/x-python",
   "name": "python",
   "nbconvert_exporter": "python",
   "pygments_lexer": "ipython3",
   "version": "3.12.2"
  }
 },
 "nbformat": 4,
 "nbformat_minor": 2
}
