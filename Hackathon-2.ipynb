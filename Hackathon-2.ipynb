{
 "cells": [
  {
   "cell_type": "code",
   "execution_count": null,
   "id": "d2862f77",
   "metadata": {},
   "outputs": [
    {
     "name": "stdout",
     "output_type": "stream",
     "text": [
      "✅ Scraping complete. Rows saved: 508\n"
     ]
    }
   ],
   "source": [
    "import requests\n",
    "from bs4 import BeautifulSoup\n",
    "import openpyxl\n",
    "\n",
    "# Create a new workbook and worksheet\n",
    "wb = openpyxl.Workbook()\n",
    "ws = wb.active\n",
    "ws.title = \"MF Data\"\n",
    "\n",
    "url = 'https://sarmaaya.pk/mutual-funds/'  \n",
    "headers = {\n",
    "    \"User-Agent\": \"Mozilla/5.0 (Macintosh; Intel Mac OS X 10_15_7) AppleWebKit/537.36 (KHTML, like Gecko) Chrome/136.0.0.0 Safari/537.36\"\n",
    "}\n",
    "\n",
    "response = requests.get(url, headers=headers)\n",
    "soup = BeautifulSoup(response.content, 'html.parser')\n",
    "\n",
    "# Find all rows in the table\n",
    "rows = soup.select(\"table tr\")\n",
    "total_rows_added = 0\n",
    "\n",
    "for row in rows:\n",
    "    cols = [td.get_text(strip=True) for td in row.find_all(['td', 'th'])]\n",
    "    \n",
    "    if len(cols) == 0 or all(c == '' for c in cols):\n",
    "        continue  # skip empty rows\n",
    "\n",
    "    if len(cols) < 14:\n",
    "        #print(f\"⚠️ Skipping row with {len(cols)} columns. Contents: {cols}\")\n",
    "        continue\n",
    "\n",
    "    # Optional: Trim/pad to exact 14 columns\n",
    "    while len(cols) < 14:\n",
    "        cols.append('')\n",
    "    ws.append(cols[:14])\n",
    "    total_rows_added += 1\n",
    "\n",
    "# Adjust column widths automatically based on max length in each column\n",
    "for col in ws.columns:\n",
    "    max_length = 0\n",
    "    col_letter = openpyxl.utils.get_column_letter(col[0].column)\n",
    "    for cell in col:\n",
    "        if cell.value:\n",
    "            max_length = max(max_length, len(str(cell.value)))\n",
    "    adjusted_width = max_length + 2  # add some padding\n",
    "    ws.column_dimensions[col_letter].width = adjusted_width\n",
    "\n",
    "print(f\"✅ Scraping complete. Rows saved: {total_rows_added}\")\n",
    "wb.save(\"/Users/farazahmed/Documents/mfdata.xlsx\")\n"
   ]
  }
 ],
 "metadata": {
  "kernelspec": {
   "display_name": "base",
   "language": "python",
   "name": "python3"
  },
  "language_info": {
   "codemirror_mode": {
    "name": "ipython",
    "version": 3
   },
   "file_extension": ".py",
   "mimetype": "text/x-python",
   "name": "python",
   "nbconvert_exporter": "python",
   "pygments_lexer": "ipython3",
   "version": "3.12.7"
  }
 },
 "nbformat": 4,
 "nbformat_minor": 5
}
